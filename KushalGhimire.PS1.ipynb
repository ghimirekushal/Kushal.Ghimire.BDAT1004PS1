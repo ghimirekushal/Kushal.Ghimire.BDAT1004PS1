{
 "cells": [
  {
   "cell_type": "markdown",
   "id": "e7e51ddf",
   "metadata": {},
   "source": [
    "# Problem Set 1"
   ]
  },
  {
   "cell_type": "markdown",
   "id": "928a6270",
   "metadata": {},
   "source": [
    "# # Question 1"
   ]
  },
  {
   "cell_type": "markdown",
   "id": "ac50b159",
   "metadata": {},
   "source": [
    "What data type is each of the following?\n",
    "\n",
    "5\n",
    "\n",
    "5.0\n",
    "\n",
    "5 > 1\n",
    "\n",
    "'5'\n",
    "\n",
    "5 * 2\n",
    "\n",
    "'5' * 2\n",
    "\n",
    "'5' + '2'\n",
    "\n",
    "5 / 2\n",
    "\n",
    "5 % 2\n",
    "\n",
    "{5, 2, 1}\n",
    "\n",
    "5 == 3\n",
    "\n",
    "Pi (the number)"
   ]
  },
  {
   "cell_type": "markdown",
   "id": "1bc5fb79",
   "metadata": {},
   "source": [
    "5: Integer (int)\n",
    "\n",
    "5.0: Floating-point number (float)\n",
    "\n",
    "5 > 1: Boolean (bool)\n",
    "\n",
    "'5': String (str)\n",
    "\n",
    "5 * 2: Integer (int)\n",
    "\n",
    "'5' * 2: String (str)\n",
    "\n",
    "'5' + '2': String (str)\n",
    "\n",
    "5 / 2: Floating-point number (float)\n",
    "\n",
    "5 % 2: Integer (int)\n",
    "\n",
    "{5, 2, 1}: Set (set)\n",
    "\n",
    "5 == 3: Boolean (bool)\n",
    "\n",
    "Pi (the number): Floating-point number (float)"
   ]
  },
  {
   "cell_type": "markdown",
   "id": "af02f16b",
   "metadata": {},
   "source": [
    "# # Question 2"
   ]
  },
  {
   "cell_type": "markdown",
   "id": "6341eebd",
   "metadata": {},
   "source": [
    "Write (and evaluate) expressions that answer these questions:\n",
    "\n",
    "a. How many letters are there in 'Supercalifragilisticexpialidocious'?\n",
    "\n",
    "b. Does 'Supercalifragilisticexpialidocious' contain 'ice' as a substring?\n",
    "\n",
    "c. Which of the following words is the longest:\n",
    "\n",
    "Supercalifragilisticexpialidocious, Honorificabilitudinitatibus, or\n",
    "Bababadalgharaghtakamminarronnkonn?\n",
    "\n",
    "d. Which composer comes first in the dictionary: 'Berlioz', 'Borodin', 'Brian',\n",
    "'Bartok', 'Bellini', 'Buxtehude', 'Bernstein'. Which one comes last?"
   ]
  },
  {
   "cell_type": "markdown",
   "id": "d57667bd",
   "metadata": {},
   "source": [
    "a. How many letters are there in 'Supercalifragilisticexpialidocious'?"
   ]
  },
  {
   "cell_type": "code",
   "execution_count": 6,
   "id": "785609d5",
   "metadata": {},
   "outputs": [
    {
     "name": "stdout",
     "output_type": "stream",
     "text": [
      "34\n"
     ]
    }
   ],
   "source": [
    "word = 'Supercalifragilisticexpialidocious'\n",
    "letter_count = len(word)\n",
    "print(letter_count)"
   ]
  },
  {
   "cell_type": "markdown",
   "id": "64d9abe3",
   "metadata": {},
   "source": [
    "b. Does 'Supercalifragilisticexpialidocious' contain 'ice' as a substring?"
   ]
  },
  {
   "cell_type": "code",
   "execution_count": 7,
   "id": "e11183ab",
   "metadata": {},
   "outputs": [
    {
     "name": "stdout",
     "output_type": "stream",
     "text": [
      "True\n"
     ]
    }
   ],
   "source": [
    "word = 'Supercalifragilisticexpialidocious'\n",
    "substring = 'ice'\n",
    "contains_substring = substring in word\n",
    "print(contains_substring)"
   ]
  },
  {
   "cell_type": "markdown",
   "id": "8eb758ad",
   "metadata": {},
   "source": [
    "c. Which of the following words is the longest:\n",
    "\n",
    "Supercalifragilisticexpialidocious, Honorificabilitudinitatibus, or\n",
    "Bababadalgharaghtakamminarronnkonn?"
   ]
  },
  {
   "cell_type": "code",
   "execution_count": 8,
   "id": "32beb90e",
   "metadata": {},
   "outputs": [
    {
     "name": "stdout",
     "output_type": "stream",
     "text": [
      "Supercalifragilisticexpialidocious\n"
     ]
    }
   ],
   "source": [
    "words = ['Supercalifragilisticexpialidocious', 'Honorificabilitudinitatibus', 'Bababadalgharaghtakamminarronnkonn']\n",
    "longest_word = max(words, key=len)\n",
    "print(longest_word)"
   ]
  },
  {
   "cell_type": "markdown",
   "id": "f4ba5112",
   "metadata": {},
   "source": [
    "d. Which composer comes first in the dictionary: 'Berlioz', 'Borodin', 'Brian',\n",
    "'Bartok', 'Bellini', 'Buxtehude', 'Bernstein'. Which one comes last?"
   ]
  },
  {
   "cell_type": "code",
   "execution_count": 9,
   "id": "9f0755b1",
   "metadata": {},
   "outputs": [
    {
     "name": "stdout",
     "output_type": "stream",
     "text": [
      "First Composer: Bartok\n",
      "Last Composer: Buxtehude\n"
     ]
    }
   ],
   "source": [
    "composers = ['Berlioz', 'Borodin', 'Brian', 'Bartok', 'Bellini', 'Buxtehude', 'Bernstein']\n",
    "first_composer = min(composers)\n",
    "last_composer = max(composers)\n",
    "print(\"First Composer:\", first_composer)\n",
    "print(\"Last Composer:\", last_composer)"
   ]
  },
  {
   "cell_type": "markdown",
   "id": "4ad00892",
   "metadata": {},
   "source": [
    "# # Question 3"
   ]
  },
  {
   "cell_type": "markdown",
   "id": "c115ca45",
   "metadata": {},
   "source": [
    "Implement function triangleArea(a,b,c) that takes as input the lengths of the 3\n",
    "sides of a triangle and returns the area of the triangle. By Heron's formula, the area\n",
    "of a triangle with side lengths a, b, and c is s(s − a)(s −b)(s −c), where\n",
    "s = (a + b + c)/2.\n",
    ">>> triangleArea(2,2,2)\n",
    "1.7320508075688772\n"
   ]
  },
  {
   "cell_type": "code",
   "execution_count": 10,
   "id": "e62fe828",
   "metadata": {},
   "outputs": [
    {
     "name": "stdout",
     "output_type": "stream",
     "text": [
      "1.7320508075688772\n"
     ]
    }
   ],
   "source": [
    "import math\n",
    "\n",
    "def triangleArea(a, b, c):\n",
    "    s = (a + b + c) / 2\n",
    "    area = math.sqrt(s * (s - a) * (s - b) * (s - c))\n",
    "    return area\n",
    "\n",
    "# Example usage\n",
    "area = triangleArea(2, 2, 2)\n",
    "print(area)\n"
   ]
  },
  {
   "cell_type": "markdown",
   "id": "1d033732",
   "metadata": {},
   "source": [
    "# # Question 4"
   ]
  },
  {
   "cell_type": "markdown",
   "id": "6643e2f8",
   "metadata": {},
   "source": [
    "Write a program to separate odd and even integers in separate arrays.\n",
    "Go to the editor\n",
    "\n",
    "Test Data :\n",
    "    \n",
    "Input the number of elements to be stored in the array :5\n",
    "    \n",
    "Input 5 elements in the array :\n",
    "    \n",
    "element - 0 : 25\n",
    "    \n",
    "element - 1 : 47\n",
    "    \n",
    "element - 2 : 42\n",
    "    \n",
    "element - 3 : 56\n",
    "    \n",
    "element - 4 : 32\n",
    "    \n",
    "Expected Output:\n",
    "    \n",
    "The Even elements are:\n",
    "\n",
    "42 56 32\n",
    "\n",
    "The Odd elements are :\n",
    "\n",
    "25 47"
   ]
  },
  {
   "cell_type": "code",
   "execution_count": 16,
   "id": "998bec71",
   "metadata": {},
   "outputs": [
    {
     "name": "stdout",
     "output_type": "stream",
     "text": [
      "Input the number of elements to be stored in the array: 5\n",
      "Element - 0: 11\n",
      "Element - 1: 88\n",
      "Element - 2: 43\n",
      "Element - 3: 66\n",
      "Element - 4: 77\n",
      "Here are the Even elements :\n",
      "88 66\n",
      "Here are the Odd elements:\n",
      "11 43 77\n"
     ]
    }
   ],
   "source": [
    "def separateOddEven(numbers):\n",
    "    evenNumbers = []\n",
    "    oddNumbers = []\n",
    "\n",
    "    for num in numbers:\n",
    "        if num % 2 == 0:\n",
    "            evenNumbers.append(num)\n",
    "        else:\n",
    "            oddNumbers.append(num)\n",
    "\n",
    "    return evenNumbers, oddNumbers\n",
    "\n",
    "# Test data\n",
    "n = int(input(\"Input the number of elements to be stored in the array: \"))\n",
    "numbers = []\n",
    "for i in range(n):\n",
    "    num = int(input(f\"Element - {i}: \"))\n",
    "    numbers.append(num)\n",
    "\n",
    "even, odd = separateOddEven(numbers)\n",
    "\n",
    "print(\"Here are the Even elements :\")\n",
    "print(*even)\n",
    "\n",
    "print(\"Here are the Odd elements:\")\n",
    "print(*odd)\n",
    "\n"
   ]
  },
  {
   "cell_type": "markdown",
   "id": "cf71e836",
   "metadata": {},
   "source": [
    "# # Question 5"
   ]
  },
  {
   "cell_type": "markdown",
   "id": "a286b8d3",
   "metadata": {},
   "source": [
    "a. Write a function inside(x,y,x1,y1,x2,y2) that returns True or False\n",
    "dependingonwhetherthepoint(x,y)liesintherectanglewithlowerleft\n",
    "corner (x1,y1) and upper right corner (x2,y2).\n",
    "\n",
    ">>> inside(1,1,0,0,2,3)\n",
    "True\n",
    ">>> inside(-1,-1,0,0,2,3)\n",
    "False\n",
    "\n",
    "b. Use function inside()from part a. to write an expression that tests whether\n",
    "the point (1,1) lies in both of the following rectangles: one with lower left\n",
    "corner (0.3, 0.5) and upper right corner (1.1, 0.7) and the other with lower\n",
    "left corner (0.5, 0.2) and upper right corner (1.1, 2)."
   ]
  },
  {
   "cell_type": "markdown",
   "id": "2dbd02fb",
   "metadata": {},
   "source": [
    "a. Write a function inside(x,y,x1,y1,x2,y2) that returns True or False\n",
    "dependingonwhetherthepoint(x,y)liesintherectanglewithlowerleft\n",
    "corner (x1,y1) and upper right corner (x2,y2).\n",
    ">>> inside(1,1,0,0,2,3)\n",
    "True\n",
    ">>> inside(-1,-1,0,0,2,3)\n",
    "False"
   ]
  },
  {
   "cell_type": "code",
   "execution_count": 17,
   "id": "d8f0371a",
   "metadata": {},
   "outputs": [
    {
     "name": "stdout",
     "output_type": "stream",
     "text": [
      "True\n",
      "False\n"
     ]
    }
   ],
   "source": [
    "def inside(x, y, x1, y1, x2, y2):\n",
    "    if x >= x1 and x <= x2 and y >= y1 and y <= y2:\n",
    "        return True\n",
    "    else:\n",
    "        return False\n",
    "\n",
    "# Test case 1\n",
    "print(inside(1, 1, 0, 0, 2, 3))  # Output: True\n",
    "\n",
    "# Test case 2\n",
    "print(inside(-1, -1, 0, 0, 2, 3))  # Output: False\n"
   ]
  },
  {
   "cell_type": "markdown",
   "id": "b71b9f8f",
   "metadata": {},
   "source": [
    "b. Use function inside()from part a. to write an expression that tests whether\n",
    "the point (1,1) lies in both of the following rectangles: one with lower left\n",
    "corner (0.3, 0.5) and upper right corner (1.1, 0.7) and the other with lower\n",
    "left corner (0.5, 0.2) and upper right corner (1.1, 2)."
   ]
  },
  {
   "cell_type": "code",
   "execution_count": 18,
   "id": "d6355c5a",
   "metadata": {},
   "outputs": [
    {
     "name": "stdout",
     "output_type": "stream",
     "text": [
      "False\n"
     ]
    }
   ],
   "source": [
    "# Rectangle 1\n",
    "rect1 = inside(1, 1, 0.3, 0.5, 1.1, 0.7)\n",
    "# Rectangle 2\n",
    "rect2 = inside(1, 1, 0.5, 0.2, 1.1, 2)\n",
    "\n",
    "# Check if point (1, 1) lies in both rectangles\n",
    "result = rect1 and rect2\n",
    "\n",
    "print(result)  # Output: True"
   ]
  },
  {
   "cell_type": "markdown",
   "id": "18e7e2da",
   "metadata": {},
   "source": [
    "# # Question 6"
   ]
  },
  {
   "cell_type": "markdown",
   "id": "6ce0cafc",
   "metadata": {},
   "source": [
    "You can turn a word into pig-Latin using the following two rules(simplified):\n",
    "    \n",
    "• If the word starts with a consonant, move that letter to the end and append\n",
    "'ay'. For example, 'happy' becomes 'appyhay' and 'pencil' becomes 'encilpay'.\n",
    "\n",
    "• If the word starts with a vowel, simply append 'way' to the end of the word.\n",
    "\n",
    "For example, 'enter' becomes 'enterway' and 'other' becomes 'otherway' . For\n",
    "our purposes, there are 5 vowels: a, e, i, o, u (so we count y as a consonant).\n",
    "    \n",
    "Write a function pig() that takes a word (i.e., a string) as input and returns its pigLatin form. Your function should still work if the input word contains upper case\n",
    "characters. Your output should always be lower case however.\n",
    "\n",
    ">>> pig('happy')\n",
    "'appyhay'\n",
    ">>> pig('Enter')\n",
    "'enterway'"
   ]
  },
  {
   "cell_type": "code",
   "execution_count": 19,
   "id": "3b37e582",
   "metadata": {},
   "outputs": [
    {
     "name": "stdout",
     "output_type": "stream",
     "text": [
      "appyhay\n",
      "enterway\n"
     ]
    }
   ],
   "source": [
    "def pig(word):\n",
    "    word = word.lower()  # Convert the word to lowercase\n",
    "\n",
    "    if word[0] in 'aeiou':  # If the word starts with a vowel\n",
    "        return word + 'way'\n",
    "    else:  # If the word starts with a consonant\n",
    "        return word[1:] + word[0] + 'ay'\n",
    "\n",
    "# Test case 1\n",
    "print(pig('happy'))  # Output: 'appyhay'\n",
    "\n",
    "# Test case 2\n",
    "print(pig('Enter'))  # Output: 'enterway'\n"
   ]
  },
  {
   "cell_type": "markdown",
   "id": "536b8c42",
   "metadata": {},
   "source": [
    "# # Question 7"
   ]
  },
  {
   "cell_type": "markdown",
   "id": "891a3ae2",
   "metadata": {},
   "source": [
    "File bloodtype1.txt records blood-types of patients (A, B, AB, O or OO) at a clinic.\n",
    "Write a function bldcount() that reads the file with name name and reports (i.e.,\n",
    "prints) how many patients there are in each bloodtype.\n",
    "\n",
    ">>> bldcount('bloodtype.txt')\n",
    "\n",
    "There are 10 patients of blood type A.\n",
    "\n",
    "There is one patient of blood type B.\n",
    "\n",
    "There are 10 patients of blood type AB.\n",
    "\n",
    "There are 12 patients of blood type O.\n",
    "\n",
    "There are no patients of blood type OO."
   ]
  },
  {
   "cell_type": "code",
   "execution_count": 21,
   "id": "345e96c3",
   "metadata": {},
   "outputs": [
    {
     "name": "stdout",
     "output_type": "stream",
     "text": [
      "There are 15 patients of blood type A.\n",
      "There is one patient of blood type B.\n",
      "There are 13 patients of blood type AB.\n",
      "There are 15 patients of blood type O.\n",
      "There are 0 patients of blood type OO.\n"
     ]
    }
   ],
   "source": [
    "def bldcount(filename):\n",
    "    blood_counts = {'A': 0, 'B': 0, 'AB': 0, 'O': 0, 'OO': 0}\n",
    "\n",
    "    with open(filename, 'r') as file:\n",
    "        blood_types = file.read().split()\n",
    "\n",
    "    for blood_type in blood_types:\n",
    "        if blood_type in blood_counts:\n",
    "            blood_counts[blood_type] += 1\n",
    "\n",
    "    for blood_type, count in blood_counts.items():\n",
    "        if count == 1:\n",
    "            print(f\"There is one patient of blood type {blood_type}.\")\n",
    "        else:\n",
    "            print(f\"There are {count} patients of blood type {blood_type}.\")\n",
    "\n",
    "# Test case\n",
    "bldcount('bloodtype1.txt')"
   ]
  },
  {
   "cell_type": "markdown",
   "id": "828f1110",
   "metadata": {},
   "source": [
    "# # Question 8 "
   ]
  },
  {
   "cell_type": "markdown",
   "id": "f06371e8",
   "metadata": {},
   "source": [
    "Write a function curconv() that takes as input:\n",
    "\n",
    "1. a currency represented using a string (e.g., 'JPY' for the Japanese Yen or\n",
    "'EUR' for the Euro)\n",
    "\n",
    "2. an amount\n",
    "and then converts and returns the amount in US dollars.\n",
    "\n",
    ">>> curconv('EUR', 100)\n",
    "\n",
    "122.96544\n",
    "\n",
    ">>> curconv('JPY', 100)\n",
    "\n",
    "1.241401\n",
    "\n",
    "The currency rates you will need are stored in file currencies.txt:\n",
    "\n",
    "AUD 1.0345157 Australian Dollar\n",
    "\n",
    "CHF 1.0237414 Swiss Franc\n",
    "\n",
    "CNY 0.1550176 Chinese Yuan\n",
    "\n",
    "DKK 0.1651442 Danish Krone\n",
    "\n",
    "EUR 1.2296544 Euro\n",
    "\n",
    "GBP 1.5550989 British Pound\n",
    "\n",
    "HKD 0.1270207 Hong Kong Dollar\n",
    "\n",
    "INR 0.0177643 Indian Rupee\n",
    "\n",
    "JPY 0.01241401 Japanese Yen\n",
    "\n",
    "MXN 0.0751848 Mexican Peso\n",
    "\n",
    "MYR 0.3145411 Malaysian Ringgit\n",
    "\n",
    "NOK 0.1677063 Norwegian Krone\n",
    "\n",
    "NZD 0.8003591 New Zealand Dollar\n",
    "\n",
    "PHP 0.0233234 Philippine Peso\n",
    "\n",
    "SEK 0.148269 Swedish Krona\n",
    "\n",
    "SGD 0.788871 Singapore Dollar\n",
    "\n",
    "THB 0.0313789 Thai Baht"
   ]
  },
  {
   "cell_type": "code",
   "execution_count": 23,
   "id": "9a0fb35c",
   "metadata": {},
   "outputs": [
    {
     "name": "stdout",
     "output_type": "stream",
     "text": [
      "122.96544\n",
      "1.241401\n"
     ]
    }
   ],
   "source": [
    "def curconv(currency, amount):\n",
    "    exchange_rates = {}\n",
    "\n",
    "    with open('currencies.txt', 'r') as file:\n",
    "        for line in file:\n",
    "            code, rate, *name = line.split()\n",
    "            exchange_rates[code] = float(rate)\n",
    "\n",
    "    if currency in exchange_rates:\n",
    "        usd_amount = amount * exchange_rates[currency]\n",
    "        return usd_amount\n",
    "    else:\n",
    "        return \"Invalid currency code\"\n",
    "\n",
    "# case 1\n",
    "print(curconv('EUR', 100))  # Output: 122.96544\n",
    "\n",
    "# case 2\n",
    "print(curconv('JPY', 100))  # Output: 1.241401\n"
   ]
  },
  {
   "cell_type": "markdown",
   "id": "66e1bbba",
   "metadata": {},
   "source": [
    "# # Question 9"
   ]
  },
  {
   "cell_type": "markdown",
   "id": "bcf164c5",
   "metadata": {},
   "source": [
    "Each of the following will cause an exception (an error). Identify what type of\n",
    "exception each will cause.\n",
    "\n",
    "Trying to add incompatible variables, as in\n",
    "adding 6 + ‘a’\n",
    "\n",
    "Referring to the 12th item of a list that has only 10\n",
    "items\n",
    "\n",
    "Using a value that is out ofrange for a function’s\n",
    "input, such as calling math.sqrt(-1.0)\n",
    "\n",
    "Using an undeclared variable, such as print(x)\n",
    "when x has not been defined\n",
    "\n",
    "Trying to open a file that does not exist, such as\n",
    "mistyping the file name or looking in the wrong\n",
    "directory."
   ]
  },
  {
   "cell_type": "markdown",
   "id": "89b341fc",
   "metadata": {},
   "source": [
    "1)Trying to add incompatible variables, as in adding 6 + ‘a’"
   ]
  },
  {
   "cell_type": "markdown",
   "id": "715b3d22",
   "metadata": {},
   "source": [
    "Ans: It will cause \"TypeError\" because integer cannot be added in string."
   ]
  },
  {
   "cell_type": "markdown",
   "id": "fdda103e",
   "metadata": {},
   "source": [
    "2)Referring to the 12th item of a list that has only 10\n",
    "items"
   ]
  },
  {
   "cell_type": "markdown",
   "id": "808c5b00",
   "metadata": {},
   "source": [
    "Ans: It will cause \"IndexError\" because the index is out of range."
   ]
  },
  {
   "cell_type": "markdown",
   "id": "426a0241",
   "metadata": {},
   "source": [
    "3)Using a value that is out ofrange for a function’s\n",
    "input, such as calling math.sqrt(-1.0)"
   ]
  },
  {
   "cell_type": "markdown",
   "id": "10f06e73",
   "metadata": {},
   "source": [
    "Ans: It will cause \"ValueError\" because the value cannot be negative."
   ]
  },
  {
   "cell_type": "markdown",
   "id": "bcc70c0f",
   "metadata": {},
   "source": [
    "4)Using an undeclared variable, such as print(x)\n",
    "when x has not been defined"
   ]
  },
  {
   "cell_type": "markdown",
   "id": "f268b347",
   "metadata": {},
   "source": [
    "Ans: It will cause \"NameError\" because undefined variable cannot be used."
   ]
  },
  {
   "cell_type": "markdown",
   "id": "9a98aa89",
   "metadata": {},
   "source": [
    "5)Trying to open a file that does not exist, such as\n",
    "mistyping the file name or looking in the wrong\n",
    "directory."
   ]
  },
  {
   "cell_type": "markdown",
   "id": "7296d599",
   "metadata": {},
   "source": [
    "Ans: It will cause \"IOError\" because we cannot open a file that doesnot exist."
   ]
  },
  {
   "cell_type": "markdown",
   "id": "e1254126",
   "metadata": {},
   "source": [
    "# # Question 10"
   ]
  },
  {
   "cell_type": "markdown",
   "id": "107684a5",
   "metadata": {},
   "source": [
    "Encryption is the process of hiding the meaning of a text by substituting letters in the\n",
    "message with other letters, according to some system. If the process is successful, no\n",
    "one but the intended recipient can understand the encrypted message. Cryptanalysis\n",
    "refers to attempts to undo the encryption, even if some details of the encryption are\n",
    "unknown (for example, if an encrypted message has been intercepted). The first step\n",
    "of cryptanalysis is often to build up a table of letter frequencies in the encrypted text.\n",
    "\n",
    "Assume that the string letters is already defined as\n",
    "\n",
    "'abcdefghijklmnopqrstuvwxyz'. Write a function called frequencies()\n",
    "that takes a string as its only parameter, and returns a list of integers, showing the\n",
    "number of times each character appears in the text. Your function may ignore any\n",
    "characters that are not in letters.\n",
    "\n",
    ">>> frequencies('The quick red fox got bored and went home.')\n",
    "\n",
    "[1, 1, 1, 3, 5, 1, 1, 2, 1, 0, 1, 0, 1, 2, 4, 0, 1, 2, 0, 2,\n",
    "1, 0, 1, 1, 0, 0]\n",
    "\n",
    ">>> frequencies('apple')"
   ]
  },
  {
   "cell_type": "code",
   "execution_count": 26,
   "id": "0b290bfb",
   "metadata": {},
   "outputs": [
    {
     "name": "stdout",
     "output_type": "stream",
     "text": [
      "[1, 1, 1, 3, 5, 1, 1, 2, 1, 0, 1, 0, 1, 2, 4, 0, 1, 2, 0, 3, 1, 0, 1, 1, 0, 0]\n",
      "[1, 0, 0, 0, 1, 0, 0, 0, 0, 0, 0, 1, 0, 0, 0, 2, 0, 0, 0, 0, 0, 0, 0, 0, 0, 0]\n"
     ]
    }
   ],
   "source": [
    "from collections import Counter\n",
    "\n",
    "def frequencies(text):\n",
    "    letters = 'abcdefghijklmnopqrstuvwxyz'\n",
    "    text = text.lower()  # Convert the text to lowercase\n",
    "    counts = Counter(char for char in text if char in letters)\n",
    "    \n",
    "    return [counts[char] for char in letters]\n",
    "\n",
    "print(frequencies('The quick red fox got bored and went home.'))\n",
    "print(frequencies('apple'))  \n"
   ]
  },
  {
   "cell_type": "code",
   "execution_count": null,
   "id": "241ea89c",
   "metadata": {},
   "outputs": [],
   "source": []
  }
 ],
 "metadata": {
  "kernelspec": {
   "display_name": "Python 3 (ipykernel)",
   "language": "python",
   "name": "python3"
  },
  "language_info": {
   "codemirror_mode": {
    "name": "ipython",
    "version": 3
   },
   "file_extension": ".py",
   "mimetype": "text/x-python",
   "name": "python",
   "nbconvert_exporter": "python",
   "pygments_lexer": "ipython3",
   "version": "3.10.9"
  }
 },
 "nbformat": 4,
 "nbformat_minor": 5
}
